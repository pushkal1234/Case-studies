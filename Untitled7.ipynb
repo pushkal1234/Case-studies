{
  "nbformat": 4,
  "nbformat_minor": 0,
  "metadata": {
    "colab": {
      "name": "Untitled7.ipynb",
      "provenance": [],
      "authorship_tag": "ABX9TyM6XDCFw3SE/GM+TZ/REi8u",
      "include_colab_link": true
    },
    "kernelspec": {
      "name": "python3",
      "display_name": "Python 3"
    },
    "language_info": {
      "name": "python"
    }
  },
  "cells": [
    {
      "cell_type": "markdown",
      "metadata": {
        "id": "view-in-github",
        "colab_type": "text"
      },
      "source": [
        "<a href=\"https://colab.research.google.com/github/pushkal1234/Data-Camp-Projects/blob/main/Untitled7.ipynb\" target=\"_parent\"><img src=\"https://colab.research.google.com/assets/colab-badge.svg\" alt=\"Open In Colab\"/></a>"
      ]
    },
    {
      "cell_type": "code",
      "metadata": {
        "id": "N-x-A2Pn54gj"
      },
      "source": [
        "import pandas as pd\n",
        "import matplotlib.pyplot as plt\n",
        "import seaborn as sns\n",
        "import numpy as np\n",
        "%matplotlib inline"
      ],
      "execution_count": 2,
      "outputs": []
    },
    {
      "cell_type": "code",
      "metadata": {
        "colab": {
          "base_uri": "https://localhost:8080/"
        },
        "id": "duI0w2TX6SFi",
        "outputId": "d334d653-eb93-4087-c42d-d31b4f124022"
      },
      "source": [
        "data = pd.read_csv(\"/content/Fraud.csv\")\n",
        "print(data.head(10))"
      ],
      "execution_count": 3,
      "outputs": [
        {
          "output_type": "stream",
          "text": [
            "   step      type    amount  ... newbalanceDest  isFraud  isFlaggedFraud\n",
            "0     1   PAYMENT   9839.64  ...           0.00      0.0             0.0\n",
            "1     1   PAYMENT   1864.28  ...           0.00      0.0             0.0\n",
            "2     1  TRANSFER    181.00  ...           0.00      1.0             0.0\n",
            "3     1  CASH_OUT    181.00  ...           0.00      1.0             0.0\n",
            "4     1   PAYMENT  11668.14  ...           0.00      0.0             0.0\n",
            "5     1   PAYMENT   7817.71  ...           0.00      0.0             0.0\n",
            "6     1   PAYMENT   7107.77  ...           0.00      0.0             0.0\n",
            "7     1   PAYMENT   7861.64  ...           0.00      0.0             0.0\n",
            "8     1   PAYMENT   4024.36  ...           0.00      0.0             0.0\n",
            "9     1     DEBIT   5337.77  ...       40348.79      0.0             0.0\n",
            "\n",
            "[10 rows x 11 columns]\n"
          ],
          "name": "stdout"
        }
      ]
    },
    {
      "cell_type": "code",
      "metadata": {
        "colab": {
          "base_uri": "https://localhost:8080/"
        },
        "id": "zXD8WjHI6SLJ",
        "outputId": "deb09393-dbf1-45bd-b5ca-1b1057ca6437"
      },
      "source": [
        "data.isnull().sum()"
      ],
      "execution_count": 4,
      "outputs": [
        {
          "output_type": "execute_result",
          "data": {
            "text/plain": [
              "step              0\n",
              "type              0\n",
              "amount            1\n",
              "nameOrig          1\n",
              "oldbalanceOrg     1\n",
              "newbalanceOrig    1\n",
              "nameDest          1\n",
              "oldbalanceDest    1\n",
              "newbalanceDest    1\n",
              "isFraud           1\n",
              "isFlaggedFraud    1\n",
              "dtype: int64"
            ]
          },
          "metadata": {
            "tags": []
          },
          "execution_count": 4
        }
      ]
    },
    {
      "cell_type": "code",
      "metadata": {
        "id": "qEUG5hEGFOmw"
      },
      "source": [
        ""
      ],
      "execution_count": null,
      "outputs": []
    }
  ]
}