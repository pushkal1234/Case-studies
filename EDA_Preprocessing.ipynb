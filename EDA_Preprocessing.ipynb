{
  "nbformat": 4,
  "nbformat_minor": 0,
  "metadata": {
    "colab": {
      "name": "EDA_Preprocessing.ipynb",
      "provenance": [],
      "authorship_tag": "ABX9TyPLiEaswCq2acjWNlyJg5fX",
      "include_colab_link": true
    },
    "kernelspec": {
      "name": "python3",
      "display_name": "Python 3"
    },
    "language_info": {
      "name": "python"
    }
  },
  "cells": [
    {
      "cell_type": "markdown",
      "metadata": {
        "id": "view-in-github",
        "colab_type": "text"
      },
      "source": [
        "<a href=\"https://colab.research.google.com/github/pushkal1234/Case-studies/blob/main/EDA_Preprocessing.ipynb\" target=\"_parent\"><img src=\"https://colab.research.google.com/assets/colab-badge.svg\" alt=\"Open In Colab\"/></a>"
      ]
    },
    {
      "cell_type": "code",
      "source": [
        "class Layer:\n",
        "  def __init__(self):\n",
        "    self.input = None\n",
        "    self.output = None\n",
        "  def forward(self, input):\n",
        "    pass\n",
        "  def backward(self, outputgradient):\n",
        "    pass \n",
        "from layer import Layer \n",
        "import numpy as np   \n",
        "class Dense:\n",
        "  def __init__(self, inputsize, outputsize):\n",
        "    self.weights = np.random.randn(outputsize, inputsize)\n",
        "    self.bias = np.random.randn(outputsize, 1)\n",
        "  def forward(self, input):\n",
        "    self.input = input\n",
        "    return np.dot(self.weights, self.input) + self.bias\n",
        "  def backward(self, outputgradient, learning_rate):\n",
        "    pass"
      ],
      "metadata": {
        "id": "GwNw0rUj-7Rz"
      },
      "execution_count": null,
      "outputs": []
    },
    {
      "cell_type": "code",
      "source": [
        ""
      ],
      "metadata": {
        "id": "1VJM50lu-7Tp"
      },
      "execution_count": null,
      "outputs": []
    }
  ]
}